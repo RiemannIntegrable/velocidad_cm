{
 "cells": [
  {
   "cell_type": "markdown",
   "id": "d059f19d",
   "metadata": {},
   "source": [
    "<div align = \"center\">\n",
    "\n",
    "# **Autovectores**\n",
    "\n",
    "</div>"
   ]
  },
  {
   "cell_type": "markdown",
   "id": "ea87b763",
   "metadata": {},
   "source": [
    "## Librerias"
   ]
  },
  {
   "cell_type": "code",
   "execution_count": null,
   "id": "3fb57716",
   "metadata": {},
   "outputs": [],
   "source": []
  },
  {
   "cell_type": "markdown",
   "id": "46526e20",
   "metadata": {},
   "source": [
    "## Data"
   ]
  },
  {
   "cell_type": "code",
   "execution_count": null,
   "id": "6bd8630d",
   "metadata": {},
   "outputs": [],
   "source": []
  },
  {
   "cell_type": "markdown",
   "id": "517af23b",
   "metadata": {},
   "source": [
    "## Analisis"
   ]
  },
  {
   "cell_type": "code",
   "execution_count": null,
   "id": "ba132789",
   "metadata": {},
   "outputs": [],
   "source": []
  }
 ],
 "metadata": {
  "kernelspec": {
   "display_name": "velocidad_cm_python",
   "language": "python",
   "name": "velocidad_cm_python"
  },
  "language_info": {
   "name": "python",
   "version": "3.11.13"
  }
 },
 "nbformat": 4,
 "nbformat_minor": 5
}
