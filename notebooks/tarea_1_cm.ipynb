{
 "cells": [
  {
   "cell_type": "markdown",
   "id": "a7c0cf76",
   "metadata": {},
   "source": [
    "<div align = \"center\">\n",
    "\n",
    "# **Comparacion de metodos**\n",
    "\n",
    "</div>"
   ]
  },
  {
   "cell_type": "markdown",
   "id": "4090cebf",
   "metadata": {},
   "source": [
    "## Librerias y funciones"
   ]
  },
  {
   "cell_type": "markdown",
   "id": "e38fd8fd",
   "metadata": {},
   "source": [
    "- Librerias de python basicas"
   ]
  },
  {
   "cell_type": "code",
   "execution_count": null,
   "id": "50593853",
   "metadata": {},
   "outputs": [],
   "source": [
    "import sys\n",
    "import os\n",
    "sys.path.append(os.path.dirname(os.getcwd()))\n",
    "\n",
    "import numpy as pd\n",
    "import matplotlib.pyplot as plt\n",
    "import seaborn as sns"
   ]
  },
  {
   "cell_type": "markdown",
   "id": "3ac9dc8b",
   "metadata": {},
   "source": [
    "- Carga de los metodos"
   ]
  },
  {
   "cell_type": "code",
   "execution_count": null,
   "id": "c8543209",
   "metadata": {},
   "outputs": [],
   "source": [
    "from src.metodos import metodo_autovector, metodo_tiempos_retorno"
   ]
  },
  {
   "cell_type": "markdown",
   "id": "7fe696d4",
   "metadata": {},
   "source": [
    "- Carga de las comparaciones"
   ]
  },
  {
   "cell_type": "code",
   "execution_count": null,
   "id": "5ef1bcb0",
   "metadata": {},
   "outputs": [],
   "source": [
    "from src.matrices import generar_caminata_aleatoria"
   ]
  },
  {
   "cell_type": "markdown",
   "id": "36176eb9",
   "metadata": {},
   "source": [
    "- Carga de las generadoras de las matrices de prueba"
   ]
  },
  {
   "cell_type": "code",
   "execution_count": null,
   "id": "7548d4dc",
   "metadata": {},
   "outputs": [],
   "source": []
  },
  {
   "cell_type": "markdown",
   "id": "11e5b545",
   "metadata": {},
   "source": [
    "## Caminata aleatoria simple"
   ]
  },
  {
   "cell_type": "code",
   "execution_count": null,
   "id": "5628ddfa",
   "metadata": {},
   "outputs": [],
   "source": []
  },
  {
   "cell_type": "markdown",
   "id": "710841ac",
   "metadata": {},
   "source": [
    "## Caminata aleatoria doble"
   ]
  },
  {
   "cell_type": "code",
   "execution_count": null,
   "id": "10c5a795",
   "metadata": {},
   "outputs": [],
   "source": []
  },
  {
   "cell_type": "markdown",
   "id": "58bada39",
   "metadata": {},
   "source": [
    "## Caminata aleatoria con perturbacion"
   ]
  },
  {
   "cell_type": "code",
   "execution_count": null,
   "id": "427df464",
   "metadata": {},
   "outputs": [],
   "source": []
  },
  {
   "cell_type": "markdown",
   "id": "4e59a1c3",
   "metadata": {},
   "source": [
    "## Comparaciones finales"
   ]
  },
  {
   "cell_type": "code",
   "execution_count": null,
   "id": "0f886cd4",
   "metadata": {},
   "outputs": [],
   "source": []
  },
  {
   "cell_type": "markdown",
   "id": "61d868f2",
   "metadata": {},
   "source": [
    "## Conclusiones"
   ]
  },
  {
   "cell_type": "markdown",
   "id": "73076a2c",
   "metadata": {},
   "source": []
  }
 ],
 "metadata": {
  "kernelspec": {
   "display_name": "velocidad_cm_python",
   "language": "python",
   "name": "velocidad_cm_python"
  },
  "language_info": {
   "codemirror_mode": {
    "name": "ipython",
    "version": 3
   },
   "file_extension": ".py",
   "mimetype": "text/x-python",
   "name": "python",
   "nbconvert_exporter": "python",
   "pygments_lexer": "ipython3",
   "version": "3.11.13"
  }
 },
 "nbformat": 4,
 "nbformat_minor": 5
}
